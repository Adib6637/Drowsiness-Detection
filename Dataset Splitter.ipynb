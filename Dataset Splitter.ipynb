{
 "cells": [
  {
   "cell_type": "code",
   "execution_count": 1,
   "metadata": {},
   "outputs": [],
   "source": [
    "import os\n",
    "import shutil\n",
    "import glob\n",
    "from tqdm import tqdm"
   ]
  },
  {
   "cell_type": "markdown",
   "metadata": {},
   "source": [
    "#\n",
    "subject ID:\n",
    "xxx\n",
    "\n",
    "image number:\n",
    "xxx\n",
    "\n",
    "gender:\n",
    "0 - male\n",
    "1 - famale\n",
    "\n",
    "glasses:\n",
    "0 - no\n",
    "1 - yes\n",
    "\n",
    "eye state:\n",
    "0 - close\n",
    "1 - open\n",
    "\n",
    "reflections:\n",
    "0 - none\n",
    "1 - low\n",
    "2 - high\n",
    "\n",
    "lighting conditions/image quality:\n",
    "0 - bad\n",
    "1 - good\n",
    "\n",
    "sensor type:\n",
    "01 - RealSense SR300 640x480\n",
    "02 - IDS Imaging, 1280x1024\n",
    "03 - Aptina Imagin 752x480\n",
    "\n",
    "example:\n",
    "s001_00123_0_0_0_0_0_01.png"
   ]
  },
  {
   "cell_type": "code",
   "execution_count": 2,
   "metadata": {},
   "outputs": [
    {
     "name": "stderr",
     "output_type": "stream",
     "text": [
      "0it [00:00, ?it/s]\n",
      "100%|██████████| 3242/3242 [00:21<00:00, 153.33it/s]\n",
      "100%|██████████| 1114/1114 [00:06<00:00, 165.36it/s]\n",
      "100%|██████████| 679/679 [00:04<00:00, 157.46it/s]\n",
      "100%|██████████| 1069/1069 [00:06<00:00, 167.55it/s]\n",
      "100%|██████████| 736/736 [00:04<00:00, 169.10it/s]\n",
      "100%|██████████| 1012/1012 [00:06<00:00, 164.81it/s]\n",
      "100%|██████████| 624/624 [00:03<00:00, 163.34it/s]\n",
      "100%|██████████| 832/832 [00:05<00:00, 166.36it/s]\n",
      "100%|██████████| 387/387 [00:02<00:00, 165.63it/s]\n",
      "100%|██████████| 399/399 [00:02<00:00, 160.93it/s]\n",
      "100%|██████████| 1648/1648 [00:10<00:00, 153.26it/s]\n",
      "100%|██████████| 8728/8728 [01:02<00:00, 140.40it/s]\n",
      "100%|██████████| 3605/3605 [00:34<00:00, 104.75it/s]\n",
      "100%|██████████| 8884/8884 [01:21<00:00, 109.55it/s]\n",
      "100%|██████████| 1132/1132 [00:09<00:00, 114.09it/s]\n",
      "100%|██████████| 1889/1889 [00:16<00:00, 112.92it/s]\n",
      "100%|██████████| 1648/1648 [00:14<00:00, 114.19it/s]\n",
      "100%|██████████| 4410/4410 [00:38<00:00, 113.48it/s]\n",
      "100%|██████████| 6175/6175 [00:55<00:00, 112.01it/s]\n",
      "100%|██████████| 704/704 [00:06<00:00, 112.80it/s]\n",
      "100%|██████████| 987/987 [00:09<00:00, 107.27it/s]\n",
      "100%|██████████| 382/382 [00:03<00:00, 100.56it/s]\n",
      "100%|██████████| 522/522 [00:05<00:00, 101.53it/s]\n",
      "100%|██████████| 752/752 [00:07<00:00, 96.39it/s] \n",
      "100%|██████████| 1502/1502 [00:15<00:00, 100.04it/s]\n",
      "100%|██████████| 1246/1246 [00:12<00:00, 100.07it/s]\n",
      "100%|██████████| 665/665 [00:06<00:00, 100.30it/s]\n",
      "100%|██████████| 736/736 [00:07<00:00, 100.71it/s]\n",
      "100%|██████████| 1393/1393 [00:13<00:00, 101.83it/s]\n",
      "100%|██████████| 1384/1384 [00:13<00:00, 101.16it/s]\n",
      "100%|██████████| 1738/1738 [00:16<00:00, 103.18it/s]\n",
      "100%|██████████| 6162/6162 [01:00<00:00, 102.59it/s]\n",
      "100%|██████████| 681/681 [00:06<00:00, 104.21it/s]\n",
      "100%|██████████| 739/739 [00:07<00:00, 101.73it/s]\n",
      "100%|██████████| 642/642 [00:06<00:00, 105.45it/s]\n",
      "100%|██████████| 6193/6193 [01:01<00:00, 101.41it/s]\n",
      "100%|██████████| 10257/10257 [01:43<00:00, 99.39it/s]\n"
     ]
    }
   ],
   "source": [
    "Raw_DIR= r'data\\mrlEyes_2018_01'\n",
    "for dirpath, dirname, filenames in os.walk(Raw_DIR):\n",
    "    for i in tqdm([f for f in filenames if f.endswith('.png')]):\n",
    "        if i.split('_')[4]=='0':\n",
    "            shutil.copy(src=dirpath+'/'+i, dst=r'data\\eye_state\\close')\n",
    "        \n",
    "        elif i.split('_')[4]=='1':\n",
    "            shutil.copy(src=dirpath+'/'+i, dst=r'data\\eye_state\\open')\n"
   ]
  },
  {
   "cell_type": "code",
   "execution_count": null,
   "metadata": {},
   "outputs": [],
   "source": []
  }
 ],
 "metadata": {
  "kernelspec": {
   "display_name": "Python 3 (ipykernel)",
   "language": "python",
   "name": "python3"
  },
  "language_info": {
   "codemirror_mode": {
    "name": "ipython",
    "version": 3
   },
   "file_extension": ".py",
   "mimetype": "text/x-python",
   "name": "python",
   "nbconvert_exporter": "python",
   "pygments_lexer": "ipython3",
   "version": "3.9.12"
  }
 },
 "nbformat": 4,
 "nbformat_minor": 4
}
